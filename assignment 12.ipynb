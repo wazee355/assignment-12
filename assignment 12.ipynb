{
 "cells": [
  {
   "cell_type": "markdown",
   "id": "98e6d29f",
   "metadata": {},
   "source": [
    "1. In what modes should the PdfFileReader() and PdfFileWriter() File objects will be opened?\n",
    "\n",
    "Answer- Read-binary('rb') for the PdfFileReader() and write-binary('wb')  for PdfFileWriter()."
   ]
  },
  {
   "cell_type": "markdown",
   "id": "7f9c8252",
   "metadata": {},
   "source": [
    "2. From a PdfFileReader object, how do you get a Page object for page 5?\n",
    "\n",
    "Answer- By calling getpage(4) will return Page object from page 5, since page(0) is the first page. "
   ]
  },
  {
   "cell_type": "markdown",
   "id": "a61ab610",
   "metadata": {},
   "source": [
    "3. What PdfFileReader variable stores the number of pages in the PDF document?\n",
    "\n",
    "Answer- The numPages variable stores an integer of the number of pages in the PdfFileReader object."
   ]
  },
  {
   "cell_type": "markdown",
   "id": "525dc105",
   "metadata": {},
   "source": [
    "4. If a PdfFileReader object’s PDF is encrypted with the password swordfish, what must you do before you can obtain Page objects from it?\n",
    "\n",
    "Answer- Call decrypt('swordfish')"
   ]
  },
  {
   "cell_type": "markdown",
   "id": "8c5fb500",
   "metadata": {},
   "source": [
    "5. What methods do you use to rotate a page?\n",
    "\n",
    "Answer- pageObj.rotateClockwise(180)\n",
    "The rotateClockwise() and rotateCounterClockwise() methods. The degrees to rotate is passed as an integer argument."
   ]
  },
  {
   "cell_type": "markdown",
   "id": "b3b33f86",
   "metadata": {},
   "source": [
    "6. What is the difference between a Run object and a Paragraph object?\n",
    "\n",
    "ANswer- A documents contains many paragraph. A paragraphs always start with new line and contains multiple runs. Runs are continuous groups of characters within the paragraph."
   ]
  },
  {
   "cell_type": "markdown",
   "id": "695c1b37",
   "metadata": {},
   "source": [
    "7. How do you obtain a list of Paragraph objects for a Document object that’s stored in a variable named doc?\n"
   ]
  },
  {
   "cell_type": "code",
   "execution_count": null,
   "id": "f479d242",
   "metadata": {},
   "outputs": [],
   "source": [
    "#pip install python-docx\n",
    "import docx\n",
    "doc = docx.Document('abc.docx')\n",
    "doc.paragraphs\n",
    "#by using doc.paragraphs"
   ]
  },
  {
   "cell_type": "markdown",
   "id": "0af51d0d",
   "metadata": {},
   "source": [
    "8. What type of object has bold, underline, italic, strike, and outline variables?\n",
    "\n",
    "Answer- A Run object has bold, underline, italic, strike and outline variables."
   ]
  },
  {
   "cell_type": "markdown",
   "id": "2454d7a9",
   "metadata": {},
   "source": [
    "9. What is the difference between False, True, and None for the bold variable?\n",
    "\n",
    "Answer- Runs further styled using text attributes. Each attribute can be set to one of three values:\n",
    "True - The attribute is always enabled, no matter  what other styles are applied to run.\n",
    "False- The attributes is always diabled.\n",
    "None- Default to whatever the run's style is to set.\n",
    "\n",
    "True always makes the run object bolded and false makes it always not bolded and none  just use the stles bold setting."
   ]
  },
  {
   "cell_type": "markdown",
   "id": "d3430c8e",
   "metadata": {},
   "source": [
    "10. How do you create a Document object for a new Word document?\n",
    "\n",
    "Answer- By Calling the docx.Document() function. "
   ]
  },
  {
   "cell_type": "markdown",
   "id": "f5ab2b8e",
   "metadata": {},
   "source": [
    "11. How do you add a paragraph with the text 'Hello, there' to a Document object stored in a variable named doc?"
   ]
  },
  {
   "cell_type": "code",
   "execution_count": null,
   "id": "24670a0b",
   "metadata": {},
   "outputs": [],
   "source": [
    "import docx\n",
    "doc= docx.Document()\n",
    "doc.add_paragraph('Hello there!')\n",
    "doc.save('hellothere.docx')"
   ]
  },
  {
   "cell_type": "markdown",
   "id": "f4297658",
   "metadata": {},
   "source": [
    "12. What integers represent the levels of headings available in Word documents?\n",
    "\n",
    "Answer- integer from 0 to 4.\n",
    "The arguments to add_heading() are a string of the heading text and an integer from 0 to 4.The integer 0 makes the heading the Title style, which is used for the top of the document. Integer 1 to 4 are for various heading levels, with 1 being the main heading and the lowest subheading."
   ]
  }
 ],
 "metadata": {
  "kernelspec": {
   "display_name": "Python 3 (ipykernel)",
   "language": "python",
   "name": "python3"
  },
  "language_info": {
   "codemirror_mode": {
    "name": "ipython",
    "version": 3
   },
   "file_extension": ".py",
   "mimetype": "text/x-python",
   "name": "python",
   "nbconvert_exporter": "python",
   "pygments_lexer": "ipython3",
   "version": "3.9.7"
  }
 },
 "nbformat": 4,
 "nbformat_minor": 5
}
